{
 "cells": [
  {
   "cell_type": "markdown",
   "metadata": {},
   "source": [
    "**STEP 1:** Data Exploration"
   ]
  },
  {
   "cell_type": "code",
   "execution_count": 159,
   "metadata": {},
   "outputs": [
    {
     "data": {
      "text/plain": [
       "([{'ENTRYTYPE': 'inproceedings',\n",
       "   'title': 'Philippine Language Resources: Trends and Directions',\n",
       "   'editor': None,\n",
       "   'year': '2009',\n",
       "   'publisher': 'Association for Computational Linguistics',\n",
       "   'author': ['Roxas, Rachel Edita', 'Cheng, Charibeth', 'Lim, Nathalie Rose'],\n",
       "   'abstract': None},\n",
       "  {'ENTRYTYPE': 'inproceedings',\n",
       "   'title': 'A System for Translating Locative Prepositions From English Into French',\n",
       "   'editor': None,\n",
       "   'year': '1991',\n",
       "   'publisher': 'Association for Computational Linguistics',\n",
       "   'author': ['Japkowicz, Nathalie', 'Wiebe, Janyce M.'],\n",
       "   'abstract': None},\n",
       "  {'ENTRYTYPE': 'inproceedings',\n",
       "   'title': 'Introduction to the Shared Task on Comparing Semantic Representations',\n",
       "   'editor': None,\n",
       "   'year': '2008',\n",
       "   'publisher': 'College Publications',\n",
       "   'author': ['Bos, Johan'],\n",
       "   'abstract': None}],\n",
       " [{'ENTRYTYPE': 'inproceedings',\n",
       "   'title': 'Learning to lemmatise Polish noun phrases',\n",
       "   'editor': None,\n",
       "   'publisher': 'Association for Computational Linguistics',\n",
       "   'author': ['Radziszewski, Adam'],\n",
       "   'abstract': None},\n",
       "  {'ENTRYTYPE': 'inproceedings',\n",
       "   'title': 'The Treebanked Conspiracy. Actors and Actions in Bellum Catilinae',\n",
       "   'editor': None,\n",
       "   'publisher': None,\n",
       "   'author': ['Passarotti, Marco', 'González Saavedra, Berta'],\n",
       "   'abstract': None},\n",
       "  {'ENTRYTYPE': 'inproceedings',\n",
       "   'title': 'Linguistic structure and machine translation',\n",
       "   'editor': None,\n",
       "   'publisher': None,\n",
       "   'author': ['Lamb, Sydney M.'],\n",
       "   'abstract': 'If one understands the nature of linguistic structure, one will know what design features an adequate machine translation system must have. To put it the other way around, it is futile to attempt the construction of a machine translation system without a knowledge of what the structure of language is like. This principle means that if someone wants to construct a machine translation system, the most important thing he must do is to understand the structure of language. Any MT system, whether by conscious intention on the part of its creators or not, is based upon some view of the nature of linguistic structure. By making explicit the underlying theory for various MT systems which have been proposed we can determine whether or not they are adequate. Similarly, by observing linguistic phenomena we can determine what properties an adequate theory of language must have, and such determination will show what features an MT system must have in order to be adequate. It can be shown that some of the approaches to MT now being pursued must necessarily fail because their underlying linguistic theories are inadequate to account for various well-known linguistic phenomena.'}])"
      ]
     },
     "execution_count": 159,
     "metadata": {},
     "output_type": "execute_result"
    }
   ],
   "source": [
    "import json\n",
    "\n",
    "# Load the training data\n",
    "with open('/Users/mennodevries/Documents/Master Data Science/Machine Learning/Assignment/train.json', 'r') as file:\n",
    "    train_data = json.load(file)\n",
    "\n",
    "# Load the test data\n",
    "with open('/Users/mennodevries/Documents/Master Data Science/Machine Learning/Assignment/test.json', 'r') as file:\n",
    "    test_data = json.load(file)\n",
    "\n",
    "# Display the first few entries of the training data and the test data\n",
    "train_data[:3], test_data[:3]"
   ]
  },
  {
   "cell_type": "markdown",
   "metadata": {},
   "source": [
    "**STEP 1:** Data Exploration"
   ]
  },
  {
   "cell_type": "markdown",
   "metadata": {},
   "source": [
    "*Features*\n",
    "\n",
    "- ENTRYTYPE: The type of publication (e.g., \"inproceedings\").\n",
    "\n",
    "- title: The title of the paper.\n",
    "\n",
    "- editor: The editor of the paper (if any).\n",
    "\n",
    "- year: The year of publication (only in the training data).\n",
    "\n",
    "- publisher: The publisher of the paper.\n",
    "\n",
    "- author: The author(s) of the paper.\n",
    "\n",
    "- abstract: The abstract of the paper (if any).\n",
    "\n",
    "\n",
    "\n",
    "*Unique values*\n",
    "\n",
    "- ENTRYTYPE: 3 unique values\n",
    "\n",
    "- title: 65,314 unique values\n",
    "\n",
    "- editor: 1,277 unique values\n",
    "\n",
    "- year: 62 unique values\n",
    "\n",
    "- publisher: 120 unique values\n",
    "\n",
    "- author: 54,313 unique values\n",
    "\n",
    "- abstract: 32,263 unique values"
   ]
  },
  {
   "cell_type": "markdown",
   "metadata": {},
   "source": [
    "**Step 2:** Preprocessing the data\n",
    "\n",
    "*2.1: Check frequency of missing values*"
   ]
  },
  {
   "cell_type": "code",
   "execution_count": 161,
   "metadata": {},
   "outputs": [
    {
     "name": "stdout",
     "output_type": "stream",
     "text": [
      "ENTRYTYPE        0\n",
      "title            0\n",
      "editor       64438\n",
      "year             0\n",
      "publisher     8201\n",
      "author        2399\n",
      "abstract     33531\n",
      "dtype: int64\n",
      "\n",
      "ENTRYTYPE        0\n",
      "title            0\n",
      "editor       21479\n",
      "publisher     2813\n",
      "author         831\n",
      "abstract     11278\n",
      "dtype: int64\n"
     ]
    }
   ],
   "source": [
    "import pandas as pd\n",
    "\n",
    "# Convert the loaded JSON data into pandas DataFrames for easier manipulation\n",
    "train_df = pd.DataFrame(train_data)\n",
    "test_df = pd.DataFrame(test_data)\n",
    "\n",
    "# Check for missing values in the training data\n",
    "missing_values_train = train_df.isnull().sum()\n",
    "missing_values_test = test_df.isnull().sum()\n",
    "\n",
    "print(missing_values_train)\n",
    "print()\n",
    "print(missing_values_test)"
   ]
  },
  {
   "cell_type": "markdown",
   "metadata": {},
   "source": [
    "**Remove exact duplicates**"
   ]
  },
  {
   "cell_type": "markdown",
   "metadata": {},
   "source": [
    "Given that the abstract and editor fields have a large number of missing values, it might not be feasible to fill them with placeholder values. Instead, we can create binary features indicating whether the abstract or editor is missing, which might capture information relevant to the year of publication.\n",
    "\n",
    "For the author and publisher fields, which have fewer missing values, we could consider filling in missing data with a placeholder such as \"Unknown\" or using a similar binary feature approach.\n",
    "\n",
    "The ENTRYTYPE and title fields have no missing values, which is good news since they can be used directly for feature extraction.\n",
    "\n",
    "Next, we will handle the missing values as described and encode the ENTRYTYPE field as it is a categorical variable. The title will be processed later with text processing techniques."
   ]
  },
  {
   "cell_type": "markdown",
   "metadata": {},
   "source": [
    "*2.2: Encoding*"
   ]
  },
  {
   "cell_type": "code",
   "execution_count": 162,
   "metadata": {},
   "outputs": [
    {
     "name": "stderr",
     "output_type": "stream",
     "text": [
      "[nltk_data] Downloading package punkt to\n",
      "[nltk_data]     /Users/mennodevries/nltk_data...\n",
      "[nltk_data]   Package punkt is already up-to-date!\n",
      "[nltk_data] Downloading package stopwords to\n",
      "[nltk_data]     /Users/mennodevries/nltk_data...\n",
      "[nltk_data]   Package stopwords is already up-to-date!\n"
     ]
    }
   ],
   "source": [
    "import nltk\n",
    "from nltk.corpus import stopwords\n",
    "from nltk.tokenize import word_tokenize\n",
    "\n",
    "# Download necessary NLTK data\n",
    "nltk.download('punkt')\n",
    "nltk.download('stopwords')\n",
    "\n",
    "# Define a function for preprocessing and tokenization\n",
    "def preprocess_and_tokenize(text):\n",
    "    # Check if the text is a string (to handle NaNs and None)\n",
    "    if not isinstance(text, str):\n",
    "        return []\n",
    "    # Convert to lowercase\n",
    "    text = text.lower()\n",
    "    # Tokenize\n",
    "    tokens = word_tokenize(text)\n",
    "    # Remove stopwords\n",
    "    stop_words = set(stopwords.words('english'))\n",
    "    filtered_tokens = [word for word in tokens if word not in stop_words and word.isalpha()] # added word.isalpha() to filter out punctuation\n",
    "    return filtered_tokens\n",
    "\n",
    "# Apply the function to the 'title' and 'abstract' columns of your DataFrame\n",
    "train_df['title_tokens'] = train_df['title'].apply(preprocess_and_tokenize)\n",
    "train_df['abstract_tokens'] = train_df['abstract'].apply(preprocess_and_tokenize)\n",
    "\n",
    "# Apply the preprocessing and tokenization function to the test data\n",
    "test_df['title_tokens'] = test_df['title'].apply(preprocess_and_tokenize)\n",
    "test_df['abstract_tokens'] = test_df['abstract'].apply(preprocess_and_tokenize)\n"
   ]
  },
  {
   "cell_type": "code",
   "execution_count": 163,
   "metadata": {},
   "outputs": [],
   "source": [
    "from collections import Counter\n",
    "\n",
    "def get_most_common_words_per_year(df, column, n=3):\n",
    "    common_words_per_year = {}\n",
    "    for year in df['year'].unique():\n",
    "        words = []\n",
    "        for text in df[column]:\n",
    "            words.extend(text)\n",
    "        common_words = Counter(words).most_common(n)\n",
    "        common_words_per_year[year] = [word[0] for word in common_words]\n",
    "    return common_words_per_year\n",
    "\n",
    "# Get most common words in titles and abstracts per year\n",
    "common_words_per_year = get_most_common_words_per_year(train_df, 'title_tokens')\n",
    "\n",
    "# Function to check if all top words for a year are in a paper's title/abstract\n",
    "def contains_all_top_words(row, top_words, column):\n",
    "    return all(word in row[column] for word in top_words)\n",
    "\n",
    "# Create and populate the columns\n",
    "for year, words in common_words_per_year.items():\n",
    "    column_name = f\"common_words{year}\"\n",
    "    train_df[column_name] = train_df.apply(lambda row: contains_all_top_words(row, words, 'title_tokens') and contains_all_top_words(row, words, 'abstract_tokens'), axis=1)\n",
    "    test_df[column_name] = test_df.apply(lambda row: contains_all_top_words(row, words, 'title_tokens') and contains_all_top_words(row, words, 'abstract_tokens'), axis=1)"
   ]
  },
  {
   "cell_type": "code",
   "execution_count": 164,
   "metadata": {},
   "outputs": [],
   "source": [
    "# Explode the 'author' column in the training data\n",
    "exploded_train_df = train_df.explode('author')\n",
    "\n",
    "# Calculate the publication count per author\n",
    "author_pub_count = exploded_train_df.groupby('author').size()\n",
    "\n",
    "# Map the publication count to the exploded training dataframe and then group by the original index to get the maximum count per paper\n",
    "train_df['author_pub_frequency'] = (\n",
    "    exploded_train_df['author']\n",
    "    .map(author_pub_count)\n",
    "    .groupby(level=0)\n",
    "    .max()  # Max frequency per original index\n",
    "    .reindex(train_df.index)  # Ensure the indices match the original train_df\n",
    "    .fillna(0)  # Fill NaNs for authors not seen in the exploded_train_df\n",
    ")\n",
    "\n",
    "# Apply the same process to the test data\n",
    "exploded_test_df = test_df.explode('author')\n",
    "test_df['author_pub_frequency'] = (\n",
    "    exploded_test_df['author']\n",
    "    .map(author_pub_count)\n",
    "    .groupby(level=0)\n",
    "    .max()  # Max frequency per original index\n",
    "    .reindex(test_df.index)  # Ensure the indices match the original test_df\n",
    "    .fillna(0)  # Fill NaNs for authors not seen in the training data\n",
    ")\n",
    "\n",
    "\n",
    "\n",
    "\n",
    "# Handling missing values by filling them with a placeholder or creating binary indicators\n",
    "train_df['editor_missing'] = train_df['editor'].isnull().astype(int)\n",
    "test_df['editor_missing'] = test_df['editor'].isnull().astype(int)\n",
    "\n",
    "train_df['abstract_missing'] = train_df['abstract'].isnull().astype(int)\n",
    "test_df['abstract_missing'] = test_df['abstract'].isnull().astype(int)\n",
    "\n",
    "train_df['publisher'].fillna('Unknown', inplace=True)\n",
    "test_df['publisher'].fillna('Unknown', inplace=True)\n",
    "\n",
    "# Count the number of authors\n",
    "train_df['num_authors'] = train_df['author'].apply(lambda x: len(x) if isinstance(x, list) else 1)\n",
    "test_df['num_authors'] = test_df['author'].apply(lambda x: len(x) if isinstance(x, list) else 1)\n",
    "\n",
    "# Handling missing values for 'author' by filling them with a placeholder AFTER the count\n",
    "train_df['author'].fillna('Unknown', inplace=True)\n",
    "test_df['author'].fillna('Unknown', inplace=True)\n",
    "\n",
    "train_df = pd.get_dummies(train_df, columns=['publisher'], prefix='publisher')\n",
    "test_df = pd.get_dummies(test_df, columns=['publisher'], prefix='publisher')\n",
    "\n",
    "\n",
    "\n",
    "# Function to count number of words in a string\n",
    "def count_words(text):\n",
    "    if not isinstance(text, str):\n",
    "        return 0  # Return 0 if text is not a string (e.g., NaN or None)\n",
    "    return len(text.split())\n",
    "\n",
    "# Adding a new column for the number of words in the title\n",
    "train_df['num_words_title'] = train_df['title'].apply(count_words)\n",
    "test_df['num_words_title'] = test_df['title'].apply(count_words)\n",
    "\n",
    "# Adding a new column for the number of words in the abstract\n",
    "train_df['num_words_abstract'] = train_df['abstract'].apply(count_words)\n",
    "test_df['num_words_abstract'] = test_df['abstract'].apply(count_words)\n",
    "\n",
    "# Dropping the original columns for which we've created features or indicators\n",
    "train_df.drop(['editor', 'abstract', 'author', 'title_tokens', 'abstract_tokens'], axis=1, inplace=True)\n",
    "test_df.drop(['editor', 'abstract', 'author', 'title_tokens', 'abstract_tokens'], axis=1, inplace=True)\n",
    "\n",
    "# Encoding the 'ENTRYTYPE' field using one-hot encoding\n",
    "train_df = pd.get_dummies(train_df, columns=['ENTRYTYPE'], drop_first=True)\n",
    "test_df = pd.get_dummies(test_df, columns=['ENTRYTYPE'], drop_first=True)\n",
    "\n",
    "# Ensuring both train and test dataframes have the same dummy variable columns\n",
    "train_df, test_df = train_df.align(test_df, join='left', axis=1, fill_value=0)\n",
    "\n",
    "# Convert the 'year' to numeric in the training data\n",
    "train_df['year'] = pd.to_numeric(train_df['year'])"
   ]
  },
  {
   "cell_type": "code",
   "execution_count": 165,
   "metadata": {},
   "outputs": [
    {
     "name": "stdout",
     "output_type": "stream",
     "text": [
      "['title', 'year', 'author_pub_frequency', 'editor_missing', 'abstract_missing', 'num_authors', 'publisher_-', 'publisher_?? Not mentionned on TOC', 'publisher_AFCP - ATALA', 'publisher_ATALA', 'publisher_ATALA (Association pour le Traitement Automatique des Langues)', 'publisher_ATALA et AFCP', 'publisher_ATALA/AFCP', 'publisher_AsLing', 'publisher_Asian Federation of Natural Language Processing', 'publisher_Aslib', 'publisher_Aslib Proceedings', 'publisher_Assocation for Computational Linguistics', 'publisher_Association for Computational Linguistics', 'publisher_Association for Computational Linguistics and Chinese Language Processing']\n"
     ]
    }
   ],
   "source": [
    "# Assuming 'df' is your DataFrame\n",
    "columns = train_df.columns\n",
    "\n",
    "# Filter out columns that contain 'common_words'\n",
    "filtered_columns = [col for col in columns if \"common_words\" not in col]\n",
    "\n",
    "# Get the first 10 of these filtered columns\n",
    "first_10_filtered_columns = filtered_columns[:20]\n",
    "\n",
    "print(first_10_filtered_columns)\n"
   ]
  },
  {
   "cell_type": "code",
   "execution_count": 166,
   "metadata": {},
   "outputs": [
    {
     "name": "stdout",
     "output_type": "stream",
     "text": [
      "<class 'pandas.core.frame.DataFrame'>\n",
      "RangeIndex: 65914 entries, 0 to 65913\n",
      "Columns: 193 entries, title to ENTRYTYPE_proceedings\n",
      "dtypes: bool(62), float64(1), int64(6), object(1), uint8(123)\n",
      "memory usage: 15.7+ MB\n"
     ]
    }
   ],
   "source": [
    "train_df.info()"
   ]
  },
  {
   "cell_type": "markdown",
   "metadata": {},
   "source": [
    "1. Missing editor and abstract fields have been encoded as binary indicators to capture their presence or absence.\n",
    "\n",
    "2. Missing publisher and author fields have been filled with the placeholder value \"Unknown\".\n",
    "\n",
    "3. The ENTRYTYPE field has been one-hot encoded, resulting in new binary features for each publication type.\n",
    "\n",
    "4. The training data's year field has been converted to a numeric type.\n",
    "\n",
    "5. The original editor and abstract columns have been dropped since we've captured the necessary information in binary indicator columns.\n",
    "\n",
    "\n",
    "\n",
    "For the title field, we will apply text processing techniques next. Before that, we need to consider the author field. It contains lists of authors, which could be processed in several ways:\n",
    "\n",
    "- Counting the number of authors.\n",
    "\n",
    "- Encoding the presence of specific prolific authors (if such patterns are found in the data)."
   ]
  },
  {
   "cell_type": "markdown",
   "metadata": {},
   "source": [
    "***TODO***\n",
    "\n",
    "Trend Analysis:\n",
    "\n",
    "Yearly Publication Trends: Plot the number of papers published each year to observe overall trends. Look for patterns like increases or decreases over time.\n",
    "Trends by Publication Type (ENTRYTYPE): Analyze how the distribution of different types of publications (e.g., conference papers, journal articles) changes over the years.\n",
    "Categorical Variable Analysis:\n",
    "\n",
    "Publisher Trends: Examine the frequency of different publishers over time. Are there publishers that have become more prominent or less so in certain periods?\n",
    "Editor Trends: If you decide to include editor information, you could look for any trends in editors over the years (though the high number of missing values might limit the insights you can gain).\n",
    "Text Analysis:\n",
    "\n",
    "Title and Abstract Analysis: Use Natural Language Processing (NLP) techniques to analyze titles and abstracts. Look for changes in the language, topics, or keywords over time. Techniques like word cloud visualizations, TF-IDF analysis, or topic modeling (e.g., LDA) could be useful here.\n",
    "Author Analysis:\n",
    "\n",
    "Number of Authors Trend: Investigate if the average number of authors per paper has changed over the years. This might indicate trends in collaboration.\n",
    "Correlation Analysis:\n",
    "\n",
    "Explore correlations between different numerical features (like the number of authors) and the publication year. This can help identify which features are most strongly associated with the year of publication.\n",
    "Outlier Detection:\n",
    "\n",
    "Identify any outliers in your data. For instance, papers with an unusually high number of authors or those published by exceptionally rare publishers.\n",
    "Visualizations:\n",
    "\n",
    "Utilize various plots (like line plots, bar charts, scatter plots) to visualize trends and relationships in the data. Histograms can be useful for understanding the distribution of the publication years and other numerical features.\n",
    "Remember, the goal of EDA is not only to inform the feature engineering and model selection process but also to gain a deeper understanding of the data's characteristics. This understanding can be invaluable in interpreting your model's results and in communicating your findings.\n"
   ]
  },
  {
   "cell_type": "code",
   "execution_count": 167,
   "metadata": {},
   "outputs": [
    {
     "data": {
      "image/png": "[encoded data removed]",
      "text/plain": [
       "<Figure size 864x432 with 1 Axes>"
      ]
     },
     "metadata": {
      "needs_background": "light"
     },
     "output_type": "display_data"
    },
    {
     "data": {
      "text/plain": [
       "'\\n--------- DO SOMETHING ABOUT THIS --------\\n'"
      ]
     },
     "execution_count": 167,
     "metadata": {},
     "output_type": "execute_result"
    }
   ],
   "source": [
    "## Yearly publicaiton trends\n",
    "import matplotlib.pyplot as plt\n",
    "import seaborn as sns\n",
    "\n",
    "# Assuming 'year' is already converted to numeric in train_df\n",
    "yearly_counts = train_df['year'].value_counts().sort_index()\n",
    "\n",
    "plt.figure(figsize=(12, 6))\n",
    "sns.lineplot(data=yearly_counts)\n",
    "plt.title('Yearly Publication Trends')\n",
    "plt.xlabel('Year')\n",
    "plt.ylabel('Number of Publications')\n",
    "plt.xticks(rotation=45)  # Rotate x-axis labels for better readability\n",
    "plt.show()\n",
    "\n",
    "\"\"\"\n",
    "--------- DO SOMETHING ABOUT THIS --------\n",
    "\"\"\""
   ]
  },
  {
   "cell_type": "code",
   "execution_count": 168,
   "metadata": {},
   "outputs": [],
   "source": [
    "# Counting the number of papers per publication year and sorting\n",
    "papers_per_year = train_df['year'].value_counts().sort_index()\n",
    "\n",
    "# Creating a DataFrame from the Series for easy CSV export\n",
    "papers_per_year_df = papers_per_year.reset_index()\n",
    "papers_per_year_df.columns = ['Year', 'Number of Papers']\n",
    "\n",
    "# Exporting to CSV\n",
    "papers_per_year_df.to_csv('papers_per_year.csv', index=False)\n"
   ]
  },
  {
   "cell_type": "code",
   "execution_count": 169,
   "metadata": {},
   "outputs": [
    {
     "data": {
      "image/png": "[encoded data removed]",
      "text/plain": [
       "<Figure size 864x432 with 1 Axes>"
      ]
     },
     "metadata": {
      "needs_background": "light"
     },
     "output_type": "display_data"
    }
   ],
   "source": [
    "# Assuming you have one-hot encoded 'ENTRYTYPE'\n",
    "entry_types = [col for col in train_df.columns if 'ENTRYTYPE_' in col]  # Adjust based on your column naming\n",
    "\n",
    "plt.figure(figsize=(12, 6))\n",
    "for entry_type in entry_types:\n",
    "    # Group by year and sum the occurrences of each ENTRYTYPE\n",
    "    yearly_data = train_df.groupby('year')[entry_type].sum()\n",
    "    sns.lineplot(data=yearly_data, label=entry_type)\n",
    "\n",
    "plt.title('Trends by Publication Type Over Years')\n",
    "plt.xlabel('Year')\n",
    "plt.ylabel('Number of Publications')\n",
    "plt.legend(title='Publication Type')\n",
    "plt.xticks(rotation=45)\n",
    "plt.show()"
   ]
  },
  {
   "cell_type": "code",
   "execution_count": 170,
   "metadata": {},
   "outputs": [
    {
     "data": {
      "image/png": "[encoded data removed]",
      "text/plain": [
       "<Figure size 720x360 with 1 Axes>"
      ]
     },
     "metadata": {
      "needs_background": "light"
     },
     "output_type": "display_data"
    }
   ],
   "source": [
    "## Text Analysis - Title and Abstract Analysis:\n",
    "\n",
    "from sklearn.feature_extraction.text import TfidfVectorizer\n",
    "import pandas as pd\n",
    "import matplotlib.pyplot as plt\n",
    "import seaborn as sns\n",
    "\n",
    "# Example using the 'title' column, similar approach can be used for 'abstract'\n",
    "\n",
    "# Using TF-IDF Vectorizer\n",
    "tfidf_vectorizer = TfidfVectorizer(max_features=100)  # You can adjust the number of features\n",
    "tfidf_matrix = tfidf_vectorizer.fit_transform(train_df['title'].fillna(''))\n",
    "\n",
    "# Summarizing the TF-IDF scores for each word\n",
    "sums = tfidf_matrix.sum(axis=0)\n",
    "data = []\n",
    "for col, term in enumerate(tfidf_vectorizer.get_feature_names_out()):\n",
    "    data.append((term, sums[0, col]))\n",
    "\n",
    "ranking = pd.DataFrame(data, columns=['term', 'rank'])\n",
    "ranking = ranking.sort_values('rank', ascending=False)\n",
    "\n",
    "# Plotting the top terms\n",
    "plt.figure(figsize=(10, 5))\n",
    "sns.barplot(x='term', y='rank', data=ranking.head(20))\n",
    "plt.title('Top 20 terms in paper titles')\n",
    "plt.xticks(rotation=45)\n",
    "plt.show()"
   ]
  },
  {
   "cell_type": "code",
   "execution_count": 171,
   "metadata": {},
   "outputs": [
    {
     "data": {
      "image/png": "[encoded data removed]",
      "text/plain": [
       "<Figure size 864x432 with 1 Axes>"
      ]
     },
     "metadata": {
      "needs_background": "light"
     },
     "output_type": "display_data"
    }
   ],
   "source": [
    "# Author Analysis\n",
    "\n",
    "# Assuming you already have a 'num_authors' column in your DataFrame\n",
    "authors_by_year = train_df.groupby('year')['num_authors'].mean()\n",
    "\n",
    "plt.figure(figsize=(12, 6))\n",
    "sns.lineplot(data=authors_by_year)\n",
    "plt.title('Average Number of Authors per Paper Over Years')\n",
    "plt.xlabel('Year')\n",
    "plt.ylabel('Average Number of Authors')\n",
    "plt.xticks(rotation=45)\n",
    "plt.show()"
   ]
  },
  {
   "cell_type": "markdown",
   "metadata": {},
   "source": [
    "*2.4: Use NLP technique (TF-IDF) for processing the 'title' feature*"
   ]
  },
  {
   "cell_type": "code",
   "execution_count": 172,
   "metadata": {},
   "outputs": [
    {
     "data": {
      "text/plain": [
       "((65914, 2000), (21972, 2000))"
      ]
     },
     "execution_count": 172,
     "metadata": {},
     "output_type": "execute_result"
    }
   ],
   "source": [
    "from sklearn.feature_extraction.text import TfidfVectorizer\n",
    "\n",
    "# Initialize the TF-IDF vectorizer\n",
    "tfidf_vectorizer = TfidfVectorizer(max_features=2000, stop_words='english')\n",
    "\n",
    "# Combine the titles from train and test datasets to ensure consistent feature set\n",
    "combined_titles = train_df['title'].tolist() + test_df['title'].tolist()\n",
    "\n",
    "# Fit the vectorizer on the combined titles\n",
    "tfidf_vectorizer.fit(combined_titles)\n",
    "\n",
    "# Transform the titles in the training and test datasets\n",
    "titles_train_tfidf = tfidf_vectorizer.transform(train_df['title'])\n",
    "titles_test_tfidf = tfidf_vectorizer.transform(test_df['title'])\n",
    "\n",
    "# We'll convert the resulting sparse matrices to DataFrames to make them easier to work with\n",
    "titles_train_tfidf_df = pd.DataFrame(titles_train_tfidf.toarray(), columns=tfidf_vectorizer.get_feature_names_out())\n",
    "titles_test_tfidf_df = pd.DataFrame(titles_test_tfidf.toarray(), columns=tfidf_vectorizer.get_feature_names_out())\n",
    "\n",
    "\n",
    "# Check the shape of the resulting DataFrames\n",
    "titles_train_tfidf_df.shape, titles_test_tfidf_df.shape"
   ]
  },
  {
   "cell_type": "markdown",
   "metadata": {},
   "source": [
    "*2.5: Concentate TF-IDF features with the other features*"
   ]
  },
  {
   "cell_type": "code",
   "execution_count": 173,
   "metadata": {},
   "outputs": [],
   "source": [
    "train_df = train_df.reset_index(drop=True)\n",
    "test_df = test_df.reset_index(drop=True)\n",
    "titles_train_tfidf_df = titles_train_tfidf_df.reset_index(drop=True)\n",
    "titles_test_tfidf_df = titles_test_tfidf_df.reset_index(drop=True)"
   ]
  },
  {
   "cell_type": "code",
   "execution_count": 174,
   "metadata": {},
   "outputs": [],
   "source": [
    "# Concatenating the TF-IDF features with the original training and test dataframes\n",
    "train_df_combined = pd.concat([train_df.drop('title', axis=1), titles_train_tfidf_df], axis=1)\n",
    "test_df_combined = pd.concat([test_df.drop('title', axis=1), titles_test_tfidf_df], axis=1)"
   ]
  },
  {
   "cell_type": "code",
   "execution_count": 175,
   "metadata": {},
   "outputs": [
    {
     "data": {
      "text/plain": [
       "((65914, 2192), (21972, 2192))"
      ]
     },
     "execution_count": 175,
     "metadata": {},
     "output_type": "execute_result"
    }
   ],
   "source": [
    "# Check the first few rows to ensure the concatenation is as expected\n",
    "train_df_combined.shape, test_df_combined.shape"
   ]
  },
  {
   "cell_type": "markdown",
   "metadata": {},
   "source": [
    "**Step 3:** Testing models\n",
    "\n",
    "*Step 3.1: splitting the training data into training data and validation data*"
   ]
  },
  {
   "cell_type": "code",
   "execution_count": 195,
   "metadata": {},
   "outputs": [
    {
     "name": "stdout",
     "output_type": "stream",
     "text": [
      "(52731, 2191) (13183, 2191) (52731,) (13183,)\n"
     ]
    }
   ],
   "source": [
    "from sklearn.model_selection import train_test_split\n",
    "\n",
    "# Convert 'year' to numeric\n",
    "train_df_combined['year'] = pd.to_numeric(train_df_combined['year'])\n",
    "\n",
    "# Extract the target variable 'year' from the training data\n",
    "target = train_df_combined['year']\n",
    "\n",
    "# Drop the target variable from the features\n",
    "features = train_df_combined.drop('year', axis=1)\n",
    "\n",
    "# Splitting the data into training and validation sets\n",
    "X_train, X_val, y_train, y_val = train_test_split(features, target, test_size=0.2, stratify=target, random_state=42)\n",
    "\n",
    "# Check the shapes to ensure they are split correctly\n",
    "print(X_train.shape, X_val.shape, y_train.shape, y_val.shape)"
   ]
  },
  {
   "cell_type": "markdown",
   "metadata": {},
   "source": [
    "The data has been successfully split into training and validation sets:\n",
    "\n",
    "- Training features: 52,731 samples\n",
    "\n",
    "- Validation features: 13,183 samples"
   ]
  },
  {
   "cell_type": "markdown",
   "metadata": {},
   "source": [
    "*3.2: Linear Regression*"
   ]
  },
  {
   "cell_type": "code",
   "execution_count": 196,
   "metadata": {},
   "outputs": [
    {
     "name": "stdout",
     "output_type": "stream",
     "text": [
      "Mean Absolute Error for Linear Regression: 4.005851163678275\n"
     ]
    }
   ],
   "source": [
    "from sklearn.linear_model import LinearRegression\n",
    "from sklearn.metrics import mean_absolute_error\n",
    "\n",
    "# Assuming any necessary one-hot encoding has been done during initial preprocessing\n",
    "\n",
    "# Train the Linear Regression model\n",
    "lin_reg = LinearRegression()\n",
    "lin_reg.fit(X_train, y_train)  # Use X_train directly if it's already prepared\n",
    "\n",
    "# Predict on the validation set\n",
    "y_val_pred_lin_reg = lin_reg.predict(X_val)  # Use X_val directly if it's already prepared\n",
    "\n",
    "# Calculate the Mean Absolute Error on the validation set\n",
    "mae_lin_reg = mean_absolute_error(y_val, y_val_pred_lin_reg)\n",
    "\n",
    "print(\"Mean Absolute Error for Linear Regression:\", mae_lin_reg)"
   ]
  },
  {
   "cell_type": "markdown",
   "metadata": {},
   "source": [
    "MAE: ***4.943066602289688***"
   ]
  },
  {
   "cell_type": "markdown",
   "metadata": {},
   "source": [
    "*3.3: Decision Tree*"
   ]
  },
  {
   "cell_type": "code",
   "execution_count": 197,
   "metadata": {},
   "outputs": [
    {
     "name": "stdout",
     "output_type": "stream",
     "text": [
      "Mean Absolute Error for Decision Tree Regressor: 4.228422820270331\n"
     ]
    }
   ],
   "source": [
    "from sklearn.tree import DecisionTreeRegressor\n",
    "from sklearn.metrics import mean_absolute_error\n",
    "\n",
    "# Initialize the Decision Tree Regressor\n",
    "decision_tree_reg = DecisionTreeRegressor(random_state=42)\n",
    "\n",
    "# Train the model on the training data\n",
    "decision_tree_reg.fit(X_train, y_train)\n",
    "\n",
    "# Predict on the validation set\n",
    "y_val_pred_decision_tree = decision_tree_reg.predict(X_val)\n",
    "\n",
    "# Calculate the Mean Absolute Error on the validation set\n",
    "mae_decision_tree = mean_absolute_error(y_val, y_val_pred_decision_tree)\n",
    "\n",
    "print(\"Mean Absolute Error for Decision Tree Regressor:\", mae_decision_tree)"
   ]
  },
  {
   "cell_type": "markdown",
   "metadata": {},
   "source": [
    "MAE: ***4.154136915501036***"
   ]
  },
  {
   "cell_type": "markdown",
   "metadata": {},
   "source": [
    "*3.3.2: Cross-validation*"
   ]
  },
  {
   "cell_type": "code",
   "execution_count": 198,
   "metadata": {},
   "outputs": [],
   "source": [
    "# from sklearn.tree import DecisionTreeRegressor\n",
    "# from sklearn.model_selection import GridSearchCV\n",
    "# from sklearn.metrics import mean_absolute_error\n",
    "\n",
    "# # Define a range of parameters for pruning the tree\n",
    "# params = {\n",
    "#     'max_depth': [None, 10, 20, 30, 40, 50],\n",
    "#     'min_samples_split': [2, 5, 10, 20],\n",
    "#     'min_samples_leaf': [1, 2, 4, 6]\n",
    "# }\n",
    "\n",
    "# # Initialize the Decision Tree Regressor model\n",
    "# decision_tree_reg = DecisionTreeRegressor(random_state=42)\n",
    "\n",
    "# # Initialize the GridSearchCV object\n",
    "# grid_search = GridSearchCV(decision_tree_reg, params, cv=5, scoring='neg_mean_absolute_error', n_jobs=-1, verbose=1)\n",
    "\n",
    "# # Perform the grid search on the training data\n",
    "# grid_search.fit(X_train, y_train)\n",
    "\n",
    "# # Get the best parameters and the best MAE score\n",
    "# best_params = grid_search.best_params_\n",
    "# best_score = -grid_search.best_score_\n",
    "\n",
    "# # Output the best parameters and best score\n",
    "# print(f\"Best parameters: {best_params}\")\n",
    "# print(f\"Best MAE score from CV: {best_score}\")\n",
    "\n",
    "# # Evaluate the best model on the validation set\n",
    "# best_decision_tree_reg = grid_search.best_estimator_\n",
    "# y_val_pred_best_tree = best_decision_tree_reg.predict(X_val)\n",
    "# mae_best_tree = mean_absolute_error(y_val, y_val_pred_best_tree)\n",
    "# print(f\"MAE on validation set: {mae_best_tree}\")"
   ]
  },
  {
   "cell_type": "markdown",
   "metadata": {},
   "source": [
    "*3.3.3: Decision tree with optimal parameters*"
   ]
  },
  {
   "cell_type": "code",
   "execution_count": 199,
   "metadata": {},
   "outputs": [
    {
     "name": "stdout",
     "output_type": "stream",
     "text": [
      "MAE for the optimized Decision Tree: 3.7578337752662936\n"
     ]
    }
   ],
   "source": [
    "# Initialize the Decision Tree Regressor model with the best parameters\n",
    "optimized_decision_tree_reg = DecisionTreeRegressor(\n",
    "    max_depth=30,\n",
    "    min_samples_leaf=4,\n",
    "    min_samples_split=20,\n",
    "    random_state=42\n",
    ")\n",
    "\n",
    "# Train the model on the training data\n",
    "optimized_decision_tree_reg.fit(X_train, y_train)\n",
    "\n",
    "# Predict on the validation set\n",
    "y_val_pred_optimized_tree = optimized_decision_tree_reg.predict(X_val)\n",
    "\n",
    "# Calculate the Mean Absolute Error on the validation set for the optimized Decision Tree\n",
    "mae_optimized_tree = mean_absolute_error(y_val, y_val_pred_optimized_tree)\n",
    "\n",
    "# Output the MAE for the optimized Decision Tree\n",
    "print(f\"MAE for the optimized Decision Tree: {mae_optimized_tree}\")"
   ]
  },
  {
   "cell_type": "markdown",
   "metadata": {},
   "source": [
    "MAE: ***3.692149771377919***"
   ]
  },
  {
   "cell_type": "markdown",
   "metadata": {},
   "source": [
    "*3.4: Random Forest*"
   ]
  },
  {
   "cell_type": "code",
   "execution_count": 200,
   "metadata": {},
   "outputs": [
    {
     "data": {
      "text/plain": [
       "3.3447087172458145"
      ]
     },
     "execution_count": 200,
     "metadata": {},
     "output_type": "execute_result"
    }
   ],
   "source": [
    "from sklearn.ensemble import RandomForestRegressor\n",
    "\n",
    "# Initialize the Random Forest Regressor model\n",
    "random_forest_reg = RandomForestRegressor(n_estimators=100, random_state=42, n_jobs=-1)\n",
    "\n",
    "# Train the model on the training data\n",
    "random_forest_reg.fit(X_train, y_train)\n",
    "\n",
    "# Predict on the validation set\n",
    "y_val_pred_random_forest = random_forest_reg.predict(X_val)\n",
    "\n",
    "# Calculate the Mean Absolute Error on the validation set for Random Forest Regression\n",
    "mae_random_forest = mean_absolute_error(y_val, y_val_pred_random_forest)\n",
    "\n",
    "mae_random_forest"
   ]
  },
  {
   "cell_type": "code",
   "execution_count": 201,
   "metadata": {},
   "outputs": [
    {
     "data": {
      "image/png": "[encoded data removed]",
      "text/plain": [
       "<Figure size 864x432 with 1 Axes>"
      ]
     },
     "metadata": {
      "needs_background": "light"
     },
     "output_type": "display_data"
    }
   ],
   "source": [
    "import matplotlib.pyplot as plt\n",
    "import pandas as pd\n",
    "import numpy as np\n",
    "\n",
    "# Calculate the differences\n",
    "differences = y_val_pred_random_forest - y_val\n",
    "\n",
    "# Create a DataFrame for analysis\n",
    "analysis_df = pd.DataFrame({'Actual Year': y_val, 'Difference': differences})\n",
    "\n",
    "# Group by the actual year and calculate mean difference\n",
    "yearly_difference = analysis_df.groupby('Actual Year')['Difference'].mean()\n",
    "\n",
    "# Plotting\n",
    "plt.figure(figsize=(12, 6))\n",
    "yearly_difference.plot(kind='bar', color='skyblue')\n",
    "plt.title('Mean Difference Between Predicted and Actual Year of Publication')\n",
    "plt.xlabel('Year of Publication')\n",
    "plt.ylabel('Mean Difference')\n",
    "plt.xticks(rotation=45)\n",
    "plt.grid(True)\n",
    "plt.show()"
   ]
  },
  {
   "cell_type": "markdown",
   "metadata": {},
   "source": [
    "*3.4.2 Hyperparemeter tuning*"
   ]
  },
  {
   "cell_type": "code",
   "execution_count": 202,
   "metadata": {},
   "outputs": [],
   "source": [
    "# from sklearn.model_selection import GridSearchCV\n",
    "# from sklearn.ensemble import RandomForestRegressor\n",
    "# import warnings\n",
    "# warnings.filterwarnings('ignore')\n",
    "\n",
    "# # Define the parameter grid\n",
    "# rf_params = {\n",
    "#     'n_estimators': [100, 200],  # Number of trees in the forest\n",
    "#     'max_depth': [None, 10, 20],  # Maximum depth of the tree\n",
    "#     'min_samples_split': [2, 5],  # Minimum number of samples required to split a node\n",
    "#     'min_samples_leaf': [1, 2]  # Minimum number of samples required at each leaf node\n",
    "# }\n",
    "\n",
    "# # Initialize the Random Forest Regressor model\n",
    "# random_forest_reg = RandomForestRegressor(random_state=42, n_jobs=-1)\n",
    "\n",
    "# # Initialize the GridSearchCV object\n",
    "# rf_grid_search = GridSearchCV(random_forest_reg, rf_params, cv=5, scoring='neg_mean_absolute_error', n_jobs=-1, verbose=1)\n",
    "\n",
    "# # Perform the grid search on the training data\n",
    "# rf_grid_search.fit(X_train, y_train)\n",
    "\n",
    "# # Get the best parameters and the best MAE score\n",
    "# rf_best_params = rf_grid_search.best_params_\n",
    "# rf_best_score = -rf_grid_search.best_score_\n",
    "\n",
    "# # Output the best parameters and best score\n",
    "# print(f\"Best parameters: {rf_best_params}\")\n",
    "# print(f\"Best MAE score from CV: {rf_best_score}\")\n",
    "\n",
    "# # Evaluate the best model on the validation set\n",
    "# best_random_forest_reg = rf_grid_search.best_estimator_\n",
    "# y_val_pred_best_rf = best_random_forest_reg.predict(X_val)\n",
    "# mae_best_rf = mean_absolute_error(y_val, y_val_pred_best_rf)\n",
    "# print(f\"MAE on validation set: {mae_best_rf}\")"
   ]
  },
  {
   "cell_type": "markdown",
   "metadata": {},
   "source": [
    "*with optimal parameters*"
   ]
  },
  {
   "cell_type": "code",
   "execution_count": 203,
   "metadata": {},
   "outputs": [],
   "source": [
    "# # Instantiate the Random Forest Regressor with the best parameters\n",
    "# optimized_random_forest_reg = RandomForestRegressor(\n",
    "#     n_estimators=1001,\n",
    "#     max_depth=None,  # or you can simply omit this since None is the default value\n",
    "#     min_samples_leaf=1,\n",
    "#     min_samples_split=5,\n",
    "#     random_state=42,\n",
    "#     n_jobs=-1\n",
    "# )\n",
    "\n",
    "# # Fit the model on your training data\n",
    "# optimized_random_forest_reg.fit(X_train, y_train)\n",
    "\n",
    "# # Make predictions on the validation set\n",
    "# y_val_pred_opt_rf = optimized_random_forest_reg.predict(X_val)\n",
    "\n",
    "# # Calculate the MAE on the validation set\n",
    "# mae_opt_rf = mean_absolute_error(y_val, y_val_pred_opt_rf)\n",
    "\n",
    "# # Output the MAE for the optimized Random Forest\n",
    "# print(f\"MAE for the optimized Random Forest: {mae_opt_rf}\")"
   ]
  },
  {
   "cell_type": "markdown",
   "metadata": {},
   "source": [
    "MAE: ***3.391160830483668***"
   ]
  },
  {
   "cell_type": "markdown",
   "metadata": {},
   "source": [
    "*3.5 XGBoost*"
   ]
  },
  {
   "cell_type": "code",
   "execution_count": 204,
   "metadata": {},
   "outputs": [
    {
     "name": "stdout",
     "output_type": "stream",
     "text": [
      "MAE for the XGBoost: 3.584449673733454\n"
     ]
    }
   ],
   "source": [
    "from xgboost import XGBRegressor\n",
    "from sklearn.metrics import mean_absolute_error\n",
    "import warnings\n",
    "warnings.filterwarnings('ignore')\n",
    "\n",
    "# Initialize the XGBoost Regressor model\n",
    "xgb_reg = XGBRegressor(random_state=42, n_jobs=-1)\n",
    "\n",
    "# Train the model on the training data\n",
    "xgb_reg.fit(X_train, y_train)\n",
    "\n",
    "# Predict on the validation set\n",
    "y_val_pred_xgb = xgb_reg.predict(X_val)\n",
    "\n",
    "# Calculate the Mean Absolute Error on the validation set for XGBoost Regression\n",
    "mae_xgb = mean_absolute_error(y_val, y_val_pred_xgb)\n",
    "\n",
    "# Print the MAE for the XGBoost\n",
    "print(f\"MAE for the XGBoost: {mae_xgb}\")"
   ]
  },
  {
   "cell_type": "code",
   "execution_count": 186,
   "metadata": {},
   "outputs": [],
   "source": [
    "# from xgboost import XGBRegressor\n",
    "# from sklearn.model_selection import GridSearchCV\n",
    "# from sklearn.metrics import mean_absolute_error\n",
    "\n",
    "# # Define the parameter grid\n",
    "# xgb_params = {\n",
    "#     'n_estimators': [100, 200, 300],\n",
    "#     'max_depth': [3, 5, 7],\n",
    "#     'learning_rate': [0.01, 0.1, 0.3],\n",
    "#     'subsample': [0.8, 1],\n",
    "#     'colsample_bytree': [0.8, 1],\n",
    "# }\n",
    "\n",
    "# # Initialize the XGBRegressor\n",
    "# xgb_reg = XGBRegressor(random_state=42)\n",
    "\n",
    "# # Initialize the GridSearchCV object\n",
    "# xgb_grid_search = GridSearchCV(xgb_reg, xgb_params, cv=5, scoring='neg_mean_absolute_error', n_jobs=-1, verbose=1)\n",
    "\n",
    "# # Fit the grid search to the data\n",
    "# xgb_grid_search.fit(X_train, y_train)\n",
    "\n",
    "# # Get the best parameters and the best MAE score\n",
    "# xgb_best_params = xgb_grid_search.best_params_\n",
    "# xgb_best_score = -xgb_grid_search.best_score_\n",
    "\n",
    "# # Output the best parameters and best score\n",
    "# print(f\"Best parameters: {xgb_best_params}\")\n",
    "# print(f\"Best MAE score from CV: {xgb_best_score}\")\n",
    "\n",
    "# # Evaluate the best model on the validation set\n",
    "# best_xgb_reg = xgb_grid_search.best_estimator_\n",
    "# y_val_pred_best_xgb = best_xgb_reg.predict(X_val)\n",
    "# mae_best_xgb = mean_absolute_error(y_val, y_val_pred_best_xgb)\n",
    "# print(f\"MAE on validation set: {mae_best_xgb}\")"
   ]
  },
  {
   "cell_type": "code",
   "execution_count": 187,
   "metadata": {},
   "outputs": [
    {
     "name": "stdout",
     "output_type": "stream",
     "text": [
      "MAE for the optimized XGBoost: 3.4526167548879236\n"
     ]
    }
   ],
   "source": [
    "from xgboost import XGBRegressor\n",
    "from sklearn.metrics import mean_absolute_error\n",
    "\n",
    "# Instantiate the XGBRegressor with the best parameters\n",
    "optimized_xgb_reg = XGBRegressor(\n",
    "    colsample_bytree=1,\n",
    "    learning_rate=0.3,\n",
    "    max_depth=7,\n",
    "    n_estimators=300,\n",
    "    subsample=1,\n",
    "    random_state=42,\n",
    "    n_jobs=-1\n",
    ")\n",
    "\n",
    "# Fit the model on your training data\n",
    "optimized_xgb_reg.fit(X_train, y_train)\n",
    "\n",
    "# Make predictions on the validation set\n",
    "y_val_pred_opt_xgb = optimized_xgb_reg.predict(X_val)\n",
    "\n",
    "# Calculate the MAE on the validation set\n",
    "mae_opt_xgb = mean_absolute_error(y_val, y_val_pred_opt_xgb)\n",
    "\n",
    "# Output the MAE for the optimized XGBoost\n",
    "print(f\"MAE for the optimized XGBoost: {mae_opt_xgb}\")"
   ]
  },
  {
   "cell_type": "markdown",
   "metadata": {},
   "source": [
    "MAE: ***3.5603743764904374***"
   ]
  },
  {
   "cell_type": "markdown",
   "metadata": {},
   "source": [
    "*3.6 Support Vector Machines*"
   ]
  },
  {
   "cell_type": "code",
   "execution_count": 188,
   "metadata": {},
   "outputs": [
    {
     "name": "stdout",
     "output_type": "stream",
     "text": [
      "MAE for the SVM model: 5.157961668388224\n"
     ]
    }
   ],
   "source": [
    "from sklearn.svm import SVR\n",
    "from sklearn.metrics import mean_absolute_error\n",
    "import warnings\n",
    "warnings.filterwarnings('ignore')\n",
    "\n",
    "# Initialize the Support Vector Regressor model\n",
    "svr_reg = SVR()\n",
    "\n",
    "# Train the model on the training data\n",
    "svr_reg.fit(X_train, y_train)\n",
    "\n",
    "# Predict on the validation set\n",
    "y_val_pred_svr = svr_reg.predict(X_val)\n",
    "\n",
    "# Calculate the Mean Absolute Error on the validation set for Support Vector Regression\n",
    "mae_svr = mean_absolute_error(y_val, y_val_pred_svr)\n",
    "\n",
    "# Print the MAE for the SVM model\n",
    "print(f\"MAE for the SVM model: {mae_svr}\")"
   ]
  },
  {
   "cell_type": "markdown",
   "metadata": {},
   "source": [
    "*3.6.2 Parameter tuning*"
   ]
  },
  {
   "cell_type": "code",
   "execution_count": 189,
   "metadata": {},
   "outputs": [],
   "source": [
    "# from sklearn.svm import SVR\n",
    "# from sklearn.model_selection import GridSearchCV\n",
    "# from sklearn.metrics import mean_absolute_error\n",
    "\n",
    "# # Define the parameter grid to search\n",
    "# svr_params = {\n",
    "#     'C': [0.1, 1, 10],\n",
    "#     'kernel': ['rbf', 'linear'],  # You can also try 'poly' and 'sigmoid'\n",
    "#     'gamma': ['scale', 'auto'],   # 'scale' uses 1 / (n_features * X.var()) as value of gamma\n",
    "#     # 'epsilon': [0.01, 0.1, 0.5], Uncomment if you want to include epsilon in the tuning\n",
    "# }\n",
    "\n",
    "# # Initialize the SVR model\n",
    "# svr_reg = SVR()\n",
    "\n",
    "# # Initialize the GridSearchCV object\n",
    "# svr_grid_search = GridSearchCV(svr_reg, svr_params, cv=5, scoring='neg_mean_absolute_error', n_jobs=-1, verbose=1)\n",
    "\n",
    "# # Fit the grid search to the data\n",
    "# svr_grid_search.fit(X_train, y_train)\n",
    "\n",
    "# # Get the best parameters and the best MAE score\n",
    "# svr_best_params = svr_grid_search.best_params_\n",
    "# svr_best_score = -svr_grid_search.best_score_\n",
    "\n",
    "# # Output the best parameters and best score\n",
    "# print(f\"Best parameters: {svr_best_params}\")\n",
    "# print(f\"Best MAE score from CV: {svr_best_score}\")\n",
    "\n",
    "# # Evaluate the best model on the validation set\n",
    "# best_svr_reg = svr_grid_search.best_estimator_\n",
    "# y_val_pred_best_svr = best_svr_reg.predict(X_val)\n",
    "# mae_best_svr = mean_absolute_error(y_val, y_val_pred_best_svr)\n",
    "# print(f\"MAE on validation set: {mae_best_svr}\")"
   ]
  },
  {
   "cell_type": "markdown",
   "metadata": {},
   "source": [
    "*3.6 Neural network*"
   ]
  },
  {
   "cell_type": "code",
   "execution_count": 190,
   "metadata": {},
   "outputs": [
    {
     "name": "stdout",
     "output_type": "stream",
     "text": [
      "MAE for the MLP model: 4.306213620207791\n"
     ]
    }
   ],
   "source": [
    "from sklearn.neural_network import MLPRegressor\n",
    "from sklearn.metrics import mean_absolute_error\n",
    "import warnings\n",
    "warnings.filterwarnings('ignore')\n",
    "\n",
    "# Initialize the Multi-layer Perceptron Regressor model\n",
    "# Adjust the hidden_layer_sizes according to the complexity of your problem\n",
    "mlp_reg = MLPRegressor(hidden_layer_sizes=(100,), max_iter=1000, random_state=42)\n",
    "\n",
    "# Train the model on the training data\n",
    "mlp_reg.fit(X_train, y_train)\n",
    "\n",
    "# Predict on the validation set\n",
    "y_val_pred_mlp = mlp_reg.predict(X_val)\n",
    "\n",
    "# Calculate the Mean Absolute Error on the validation set for MLP Regression\n",
    "mae_mlp = mean_absolute_error(y_val, y_val_pred_mlp)\n",
    "\n",
    "# Print the MAE for the MLP model\n",
    "print(f\"MAE for the MLP model: {mae_mlp}\")"
   ]
  },
  {
   "cell_type": "markdown",
   "metadata": {},
   "source": [
    "*3.6.2 Parameter tuning*"
   ]
  },
  {
   "cell_type": "code",
   "execution_count": 191,
   "metadata": {},
   "outputs": [],
   "source": [
    "# from sklearn.neural_network import MLPRegressor\n",
    "# from sklearn.model_selection import GridSearchCV\n",
    "# from sklearn.metrics import mean_absolute_error\n",
    "\n",
    "# # Define the parameter grid to search\n",
    "# mlp_params = {\n",
    "#     'hidden_layer_sizes': [(50,), (100,), (50, 50), (100, 50)],\n",
    "#     'activation': ['tanh', 'relu'],\n",
    "#     'solver': ['sgd', 'adam'],\n",
    "#     'alpha': [0.0001, 0.001, 0.01],  # L2 penalty (regularization term) parameter\n",
    "#     'learning_rate': ['constant', 'adaptive'],\n",
    "# }\n",
    "\n",
    "# # Initialize the MLPRegressor\n",
    "# mlp_reg = MLPRegressor(max_iter=1000, random_state=42)\n",
    "\n",
    "# # Initialize the GridSearchCV object\n",
    "# mlp_grid_search = GridSearchCV(mlp_reg, mlp_params, cv=5, scoring='neg_mean_absolute_error', n_jobs=-1, verbose=1)\n",
    "\n",
    "# # Fit the grid search to the data\n",
    "# mlp_grid_search.fit(X_train, y_train)\n",
    "\n",
    "# # Get the best parameters and the best MAE score\n",
    "# mlp_best_params = mlp_grid_search.best_params_\n",
    "# mlp_best_score = -mlp_grid_search.best_score_\n",
    "\n",
    "# # Output the best parameters and best score\n",
    "# print(f\"Best parameters: {mlp_best_params}\")\n",
    "# print(f\"Best MAE score from CV: {mlp_best_score}\")\n",
    "\n",
    "# # Evaluate the best model on the validation set\n",
    "# best_mlp_reg = mlp_grid_search.best_estimator_\n",
    "# y_val_pred_best_mlp = best_mlp_reg.predict(X_val)\n",
    "# mae_best_mlp = mean_absolute_error(y_val, y_val_pred_best_mlp)\n",
    "# print(f\"MAE on validation set: {mae_best_mlp}\")"
   ]
  },
  {
   "cell_type": "markdown",
   "metadata": {},
   "source": [
    "**Step 4: Model Comparison**"
   ]
  },
  {
   "cell_type": "code",
   "execution_count": 192,
   "metadata": {},
   "outputs": [
    {
     "name": "stdout",
     "output_type": "stream",
     "text": [
      "                 Model       MAE\n",
      "2        Random Forest  3.374080\n",
      "3              XGBoost  3.657469\n",
      "0    Linear Regression  4.055139\n",
      "1        Decision Tree  4.244435\n",
      "4  SuperVectorMachines  5.157962\n"
     ]
    }
   ],
   "source": [
    "import pandas as pd\n",
    "\n",
    "# Assuming you have MAE values for each model stored in variables\n",
    "results = {\n",
    "    'Model': ['Linear Regression', 'Decision Tree', 'Random Forest', 'XGBoost', 'SuperVectorMachines'],\n",
    "    'MAE': [mae_lin_reg, mae_decision_tree, mae_random_forest, mae_xgb, mae_svr]\n",
    "}\n",
    "\n",
    "results_df = pd.DataFrame(results)\n",
    "results_df.sort_values(by='MAE', inplace=True)\n",
    "\n",
    "print(results_df)"
   ]
  },
  {
   "cell_type": "markdown",
   "metadata": {},
   "source": [
    "*4.2 Visualization*"
   ]
  },
  {
   "cell_type": "code",
   "execution_count": 193,
   "metadata": {},
   "outputs": [
    {
     "data": {
      "image/png": "[encoded data removed]",
      "text/plain": [
       "<Figure size 720x432 with 1 Axes>"
      ]
     },
     "metadata": {
      "needs_background": "light"
     },
     "output_type": "display_data"
    }
   ],
   "source": [
    "import matplotlib.pyplot as plt\n",
    "\n",
    "# Create a bar chart for visual comparison\n",
    "plt.figure(figsize=(10, 6))\n",
    "plt.barh(results_df['Model'], results_df['MAE'], color='skyblue')\n",
    "plt.xlabel('Mean Absolute Error (MAE)')\n",
    "plt.title('Model Performance Comparison')\n",
    "plt.gca().invert_yaxis()  # To have the best model at the top\n",
    "plt.show()"
   ]
  },
  {
   "cell_type": "markdown",
   "metadata": {},
   "source": [
    "**Step 5:** Make predictions for the test set"
   ]
  },
  {
   "cell_type": "code",
   "execution_count": 194,
   "metadata": {},
   "outputs": [
    {
     "ename": "KeyboardInterrupt",
     "evalue": "",
     "output_type": "error",
     "traceback": [
      "\u001b[0;31m---------------------------------------------------------------------------\u001b[0m",
      "\u001b[0;31mKeyboardInterrupt\u001b[0m                         Traceback (most recent call last)",
      "\u001b[0;32m/var/folders/w4/zf4tylc51j3bx4v15w6mb0tw0000gn/T/ipykernel_78351/761318649.py\u001b[0m in \u001b[0;36m<module>\u001b[0;34m\u001b[0m\n\u001b[1;32m     26\u001b[0m \u001b[0;34m\u001b[0m\u001b[0m\n\u001b[1;32m     27\u001b[0m \u001b[0;31m# Train the model on the full training data\u001b[0m\u001b[0;34m\u001b[0m\u001b[0;34m\u001b[0m\u001b[0m\n\u001b[0;32m---> 28\u001b[0;31m \u001b[0mrandom_forest_full\u001b[0m\u001b[0;34m.\u001b[0m\u001b[0mfit\u001b[0m\u001b[0;34m(\u001b[0m\u001b[0mfull_features\u001b[0m\u001b[0;34m,\u001b[0m \u001b[0mfull_target\u001b[0m\u001b[0;34m)\u001b[0m\u001b[0;34m\u001b[0m\u001b[0;34m\u001b[0m\u001b[0m\n\u001b[0m\u001b[1;32m     29\u001b[0m \u001b[0;34m\u001b[0m\u001b[0m\n\u001b[1;32m     30\u001b[0m \u001b[0;31m# Predict on the test dataset\u001b[0m\u001b[0;34m\u001b[0m\u001b[0;34m\u001b[0m\u001b[0m\n",
      "\u001b[0;32m~/opt/anaconda3/lib/python3.9/site-packages/sklearn/base.py\u001b[0m in \u001b[0;36mwrapper\u001b[0;34m(estimator, *args, **kwargs)\u001b[0m\n\u001b[1;32m   1150\u001b[0m                 )\n\u001b[1;32m   1151\u001b[0m             ):\n\u001b[0;32m-> 1152\u001b[0;31m                 \u001b[0;32mreturn\u001b[0m \u001b[0mfit_method\u001b[0m\u001b[0;34m(\u001b[0m\u001b[0mestimator\u001b[0m\u001b[0;34m,\u001b[0m \u001b[0;34m*\u001b[0m\u001b[0margs\u001b[0m\u001b[0;34m,\u001b[0m \u001b[0;34m**\u001b[0m\u001b[0mkwargs\u001b[0m\u001b[0;34m)\u001b[0m\u001b[0;34m\u001b[0m\u001b[0;34m\u001b[0m\u001b[0m\n\u001b[0m\u001b[1;32m   1153\u001b[0m \u001b[0;34m\u001b[0m\u001b[0m\n\u001b[1;32m   1154\u001b[0m         \u001b[0;32mreturn\u001b[0m \u001b[0mwrapper\u001b[0m\u001b[0;34m\u001b[0m\u001b[0;34m\u001b[0m\u001b[0m\n",
      "\u001b[0;32m~/opt/anaconda3/lib/python3.9/site-packages/sklearn/ensemble/_forest.py\u001b[0m in \u001b[0;36mfit\u001b[0;34m(self, X, y, sample_weight)\u001b[0m\n\u001b[1;32m    454\u001b[0m             \u001b[0;31m# parallel_backend contexts set at a higher level,\u001b[0m\u001b[0;34m\u001b[0m\u001b[0;34m\u001b[0m\u001b[0m\n\u001b[1;32m    455\u001b[0m             \u001b[0;31m# since correctness does not rely on using threads.\u001b[0m\u001b[0;34m\u001b[0m\u001b[0;34m\u001b[0m\u001b[0m\n\u001b[0;32m--> 456\u001b[0;31m             trees = Parallel(\n\u001b[0m\u001b[1;32m    457\u001b[0m                 \u001b[0mn_jobs\u001b[0m\u001b[0;34m=\u001b[0m\u001b[0mself\u001b[0m\u001b[0;34m.\u001b[0m\u001b[0mn_jobs\u001b[0m\u001b[0;34m,\u001b[0m\u001b[0;34m\u001b[0m\u001b[0;34m\u001b[0m\u001b[0m\n\u001b[1;32m    458\u001b[0m                 \u001b[0mverbose\u001b[0m\u001b[0;34m=\u001b[0m\u001b[0mself\u001b[0m\u001b[0;34m.\u001b[0m\u001b[0mverbose\u001b[0m\u001b[0;34m,\u001b[0m\u001b[0;34m\u001b[0m\u001b[0;34m\u001b[0m\u001b[0m\n",
      "\u001b[0;32m~/opt/anaconda3/lib/python3.9/site-packages/sklearn/utils/parallel.py\u001b[0m in \u001b[0;36m__call__\u001b[0;34m(self, iterable)\u001b[0m\n\u001b[1;32m     63\u001b[0m             \u001b[0;32mfor\u001b[0m \u001b[0mdelayed_func\u001b[0m\u001b[0;34m,\u001b[0m \u001b[0margs\u001b[0m\u001b[0;34m,\u001b[0m \u001b[0mkwargs\u001b[0m \u001b[0;32min\u001b[0m \u001b[0miterable\u001b[0m\u001b[0;34m\u001b[0m\u001b[0;34m\u001b[0m\u001b[0m\n\u001b[1;32m     64\u001b[0m         )\n\u001b[0;32m---> 65\u001b[0;31m         \u001b[0;32mreturn\u001b[0m \u001b[0msuper\u001b[0m\u001b[0;34m(\u001b[0m\u001b[0;34m)\u001b[0m\u001b[0;34m.\u001b[0m\u001b[0m__call__\u001b[0m\u001b[0;34m(\u001b[0m\u001b[0miterable_with_config\u001b[0m\u001b[0;34m)\u001b[0m\u001b[0;34m\u001b[0m\u001b[0;34m\u001b[0m\u001b[0m\n\u001b[0m\u001b[1;32m     66\u001b[0m \u001b[0;34m\u001b[0m\u001b[0m\n\u001b[1;32m     67\u001b[0m \u001b[0;34m\u001b[0m\u001b[0m\n",
      "\u001b[0;32m~/opt/anaconda3/lib/python3.9/site-packages/joblib/parallel.py\u001b[0m in \u001b[0;36m__call__\u001b[0;34m(self, iterable)\u001b[0m\n\u001b[1;32m   1950\u001b[0m         \u001b[0mnext\u001b[0m\u001b[0;34m(\u001b[0m\u001b[0moutput\u001b[0m\u001b[0;34m)\u001b[0m\u001b[0;34m\u001b[0m\u001b[0;34m\u001b[0m\u001b[0m\n\u001b[1;32m   1951\u001b[0m \u001b[0;34m\u001b[0m\u001b[0m\n\u001b[0;32m-> 1952\u001b[0;31m         \u001b[0;32mreturn\u001b[0m \u001b[0moutput\u001b[0m \u001b[0;32mif\u001b[0m \u001b[0mself\u001b[0m\u001b[0;34m.\u001b[0m\u001b[0mreturn_generator\u001b[0m \u001b[0;32melse\u001b[0m \u001b[0mlist\u001b[0m\u001b[0;34m(\u001b[0m\u001b[0moutput\u001b[0m\u001b[0;34m)\u001b[0m\u001b[0;34m\u001b[0m\u001b[0;34m\u001b[0m\u001b[0m\n\u001b[0m\u001b[1;32m   1953\u001b[0m \u001b[0;34m\u001b[0m\u001b[0m\n\u001b[1;32m   1954\u001b[0m     \u001b[0;32mdef\u001b[0m \u001b[0m__repr__\u001b[0m\u001b[0;34m(\u001b[0m\u001b[0mself\u001b[0m\u001b[0;34m)\u001b[0m\u001b[0;34m:\u001b[0m\u001b[0;34m\u001b[0m\u001b[0;34m\u001b[0m\u001b[0m\n",
      "\u001b[0;32m~/opt/anaconda3/lib/python3.9/site-packages/joblib/parallel.py\u001b[0m in \u001b[0;36m_get_outputs\u001b[0;34m(self, iterator, pre_dispatch)\u001b[0m\n\u001b[1;32m   1593\u001b[0m \u001b[0;34m\u001b[0m\u001b[0m\n\u001b[1;32m   1594\u001b[0m             \u001b[0;32mwith\u001b[0m \u001b[0mself\u001b[0m\u001b[0;34m.\u001b[0m\u001b[0m_backend\u001b[0m\u001b[0;34m.\u001b[0m\u001b[0mretrieval_context\u001b[0m\u001b[0;34m(\u001b[0m\u001b[0;34m)\u001b[0m\u001b[0;34m:\u001b[0m\u001b[0;34m\u001b[0m\u001b[0;34m\u001b[0m\u001b[0m\n\u001b[0;32m-> 1595\u001b[0;31m                 \u001b[0;32myield\u001b[0m \u001b[0;32mfrom\u001b[0m \u001b[0mself\u001b[0m\u001b[0;34m.\u001b[0m\u001b[0m_retrieve\u001b[0m\u001b[0;34m(\u001b[0m\u001b[0;34m)\u001b[0m\u001b[0;34m\u001b[0m\u001b[0;34m\u001b[0m\u001b[0m\n\u001b[0m\u001b[1;32m   1596\u001b[0m \u001b[0;34m\u001b[0m\u001b[0m\n\u001b[1;32m   1597\u001b[0m         \u001b[0;32mexcept\u001b[0m \u001b[0mGeneratorExit\u001b[0m\u001b[0;34m:\u001b[0m\u001b[0;34m\u001b[0m\u001b[0;34m\u001b[0m\u001b[0m\n",
      "\u001b[0;32m~/opt/anaconda3/lib/python3.9/site-packages/joblib/parallel.py\u001b[0m in \u001b[0;36m_retrieve\u001b[0;34m(self)\u001b[0m\n\u001b[1;32m   1705\u001b[0m                 (self._jobs[0].get_status(\n\u001b[1;32m   1706\u001b[0m                     timeout=self.timeout) == TASK_PENDING)):\n\u001b[0;32m-> 1707\u001b[0;31m                 \u001b[0mtime\u001b[0m\u001b[0;34m.\u001b[0m\u001b[0msleep\u001b[0m\u001b[0;34m(\u001b[0m\u001b[0;36m0.01\u001b[0m\u001b[0;34m)\u001b[0m\u001b[0;34m\u001b[0m\u001b[0;34m\u001b[0m\u001b[0m\n\u001b[0m\u001b[1;32m   1708\u001b[0m                 \u001b[0;32mcontinue\u001b[0m\u001b[0;34m\u001b[0m\u001b[0;34m\u001b[0m\u001b[0m\n\u001b[1;32m   1709\u001b[0m \u001b[0;34m\u001b[0m\u001b[0m\n",
      "\u001b[0;31mKeyboardInterrupt\u001b[0m: "
     ]
    }
   ],
   "source": [
    "from sklearn.ensemble import RandomForestRegressor\n",
    "\n",
    "# Extract the target variable 'year' and features from the full training dataset\n",
    "full_target = train_df_combined['year']\n",
    "full_features = train_df_combined.drop('year', axis=1)\n",
    "\n",
    "# Drop the 'year' column from the test dataset if it exists\n",
    "if 'year' in test_df_combined.columns:\n",
    "    test_df_combined = test_df_combined.drop('year', axis=1)\n",
    "\n",
    "# Align the features of the test set with those of the training set\n",
    "test_df_combined_aligned = test_df_combined.reindex(columns = full_features.columns, fill_value=0)\n",
    "\n",
    "# Now, try realigning the test features\n",
    "test_df_combined_aligned = test_df_combined.reindex(columns=full_features.columns, fill_value=0)\n",
    "\n",
    "# Initialize the Random Forest Regressor with the best parameters found\n",
    "random_forest_full = RandomForestRegressor(\n",
    "    n_estimators=1500,\n",
    "    max_depth=None,  # or you can simply omit this since None is the default value\n",
    "    min_samples_leaf=1,\n",
    "    min_samples_split=5,\n",
    "    random_state=42,\n",
    "    n_jobs=-1\n",
    ")  # Adjust parameters as needed\n",
    "\n",
    "# Train the model on the full training data\n",
    "random_forest_full.fit(full_features, full_target)\n",
    "\n",
    "# Predict on the test dataset\n",
    "test_predictions = random_forest_full.predict(test_df_combined_aligned)"
   ]
  },
  {
   "cell_type": "code",
   "execution_count": null,
   "metadata": {},
   "outputs": [
    {
     "data": {
      "text/plain": [
       "21904"
      ]
     },
     "execution_count": 65,
     "metadata": {},
     "output_type": "execute_result"
    }
   ],
   "source": [
    "len(test_df_combined_aligned)"
   ]
  },
  {
   "cell_type": "code",
   "execution_count": null,
   "metadata": {},
   "outputs": [],
   "source": [
    "import json\n",
    "\n",
    "# Creating a list of dictionaries for submission\n",
    "submission = [{'year': int(year)} for year in test_predictions]\n",
    "\n",
    "# Saving the submission file\n",
    "with open('predicted.json', 'w') as file:\n",
    "    json.dump(submission, file)"
   ]
  },
  {
   "cell_type": "code",
   "execution_count": null,
   "metadata": {},
   "outputs": [],
   "source": []
  }
 ],
 "metadata": {
  "kernelspec": {
   "display_name": "Python 3",
   "language": "python",
   "name": "python3"
  },
  "language_info": {
   "codemirror_mode": {
    "name": "ipython",
    "version": 3
   },
   "file_extension": ".py",
   "mimetype": "text/x-python",
   "name": "python",
   "nbconvert_exporter": "python",
   "pygments_lexer": "ipython3",
   "version": "3.9.7"
  },
  "orig_nbformat": 4
 },
 "nbformat": 4,
 "nbformat_minor": 2
}
